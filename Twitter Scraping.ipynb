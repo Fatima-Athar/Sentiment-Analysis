{
 "cells": [
  {
   "cell_type": "code",
   "execution_count": 1,
   "id": "f22b252c",
   "metadata": {},
   "outputs": [
    {
     "name": "stdout",
     "output_type": "stream",
     "text": [
      "Requirement already satisfied: snscrape in c:\\users\\hp\\anaconda3\\lib\\site-packages (0.4.2.20211215)\n",
      "Requirement already satisfied: requests[socks] in c:\\users\\hp\\anaconda3\\lib\\site-packages (from snscrape) (2.25.1)\n",
      "Requirement already satisfied: beautifulsoup4 in c:\\users\\hp\\anaconda3\\lib\\site-packages (from snscrape) (4.9.3)\n",
      "Requirement already satisfied: pytz in c:\\users\\hp\\anaconda3\\lib\\site-packages (from snscrape) (2021.1)\n",
      "Requirement already satisfied: lxml in c:\\users\\hp\\anaconda3\\lib\\site-packages (from snscrape) (4.6.3)\n",
      "Requirement already satisfied: soupsieve>1.2 in c:\\users\\hp\\anaconda3\\lib\\site-packages (from beautifulsoup4->snscrape) (2.2.1)\n",
      "Requirement already satisfied: chardet<5,>=3.0.2 in c:\\users\\hp\\anaconda3\\lib\\site-packages (from requests[socks]->snscrape) (4.0.0)\n",
      "Requirement already satisfied: idna<3,>=2.5 in c:\\users\\hp\\anaconda3\\lib\\site-packages (from requests[socks]->snscrape) (2.10)\n",
      "Requirement already satisfied: urllib3<1.27,>=1.21.1 in c:\\users\\hp\\anaconda3\\lib\\site-packages (from requests[socks]->snscrape) (1.26.4)\n",
      "Requirement already satisfied: certifi>=2017.4.17 in c:\\users\\hp\\anaconda3\\lib\\site-packages (from requests[socks]->snscrape) (2020.12.5)\n",
      "Requirement already satisfied: PySocks!=1.5.7,>=1.5.6 in c:\\users\\hp\\anaconda3\\lib\\site-packages (from requests[socks]->snscrape) (1.7.1)\n"
     ]
    }
   ],
   "source": [
    "!pip install snscrape"
   ]
  },
  {
   "cell_type": "code",
   "execution_count": 1,
   "id": "77c61a02",
   "metadata": {},
   "outputs": [],
   "source": [
    "import os\n",
    "import pandas as pd"
   ]
  },
  {
   "cell_type": "code",
   "execution_count": 2,
   "id": "bc018aed",
   "metadata": {},
   "outputs": [
    {
     "data": {
      "text/plain": [
       "0"
      ]
     },
     "execution_count": 2,
     "metadata": {},
     "output_type": "execute_result"
    }
   ],
   "source": [
    "arg = \"twitter-hashtag\"\n",
    "os.system(f'snscrape --jsonl --progress --max-results 5000 --since 2021-11-01 {arg} \"SpidermanNoWayHome until:2021-12-26\" > text-query-tweets.json')"
   ]
  },
  {
   "cell_type": "code",
   "execution_count": 3,
   "id": "604fcff0",
   "metadata": {},
   "outputs": [],
   "source": [
    "# Read the json generated from the cell above and create a pandas dataframe\n",
    "tweets_df = pd.read_json('text-query-tweets.json', lines=True)"
   ]
  },
  {
   "cell_type": "code",
   "execution_count": 4,
   "id": "2fa498ad",
   "metadata": {},
   "outputs": [
    {
     "data": {
      "text/plain": [
       "Index(['_type', 'url', 'date', 'content', 'renderedContent', 'id', 'user',\n",
       "       'replyCount', 'retweetCount', 'likeCount', 'quoteCount',\n",
       "       'conversationId', 'lang', 'source', 'sourceUrl', 'sourceLabel',\n",
       "       'outlinks', 'tcooutlinks', 'media', 'retweetedTweet', 'quotedTweet',\n",
       "       'inReplyToTweetId', 'inReplyToUser', 'mentionedUsers', 'coordinates',\n",
       "       'place', 'hashtags', 'cashtags'],\n",
       "      dtype='object')"
      ]
     },
     "execution_count": 4,
     "metadata": {},
     "output_type": "execute_result"
    }
   ],
   "source": [
    "tweets_df.columns"
   ]
  },
  {
   "cell_type": "code",
   "execution_count": 5,
   "id": "0446f7fd",
   "metadata": {},
   "outputs": [],
   "source": [
    "df = tweets_df[[\"id\", \"url\", \"date\", \"content\",\n",
    "                \"hashtags\", \"user\", \"media\", \"lang\"]]"
   ]
  },
  {
   "cell_type": "code",
   "execution_count": 6,
   "id": "a730aa7b",
   "metadata": {},
   "outputs": [],
   "source": [
    "df.to_csv('SpidermanNoWayHomeNew.csv')"
   ]
  },
  {
   "cell_type": "code",
   "execution_count": null,
   "id": "121c1a54",
   "metadata": {},
   "outputs": [],
   "source": []
  }
 ],
 "metadata": {
  "kernelspec": {
   "display_name": "Python 3",
   "language": "python",
   "name": "python3"
  },
  "language_info": {
   "codemirror_mode": {
    "name": "ipython",
    "version": 3
   },
   "file_extension": ".py",
   "mimetype": "text/x-python",
   "name": "python",
   "nbconvert_exporter": "python",
   "pygments_lexer": "ipython3",
   "version": "3.8.8"
  }
 },
 "nbformat": 4,
 "nbformat_minor": 5
}
